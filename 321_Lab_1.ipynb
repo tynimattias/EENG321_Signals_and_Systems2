{
  "nbformat": 4,
  "nbformat_minor": 0,
  "metadata": {
    "colab": {
      "name": "321_Lab_1.ipynb",
      "provenance": [],
      "authorship_tag": "ABX9TyO3BTYoRVhFAcLK2StnM5wY",
      "include_colab_link": true
    },
    "kernelspec": {
      "name": "python3",
      "display_name": "Python 3"
    },
    "language_info": {
      "name": "python"
    }
  },
  "cells": [
    {
      "cell_type": "markdown",
      "metadata": {
        "id": "view-in-github",
        "colab_type": "text"
      },
      "source": [
        "<a href=\"https://colab.research.google.com/github/tynimattias/EENG_321_Labs/blob/main/321_Lab_1.ipynb\" target=\"_parent\"><img src=\"https://colab.research.google.com/assets/colab-badge.svg\" alt=\"Open In Colab\"/></a>"
      ]
    },
    {
      "cell_type": "code",
      "execution_count": 7,
      "metadata": {
        "colab": {
          "base_uri": "https://localhost:8080/",
          "height": 265
        },
        "id": "PNGIsxEK4bIU",
        "outputId": "f557f2ef-363d-4614-db10-311c9fee4320"
      },
      "outputs": [
        {
          "output_type": "display_data",
          "data": {
            "text/plain": [
              "<Figure size 432x288 with 1 Axes>"
            ],
            "image/png": "[encoded data removed]"
          },
          "metadata": {
            "needs_background": "light"
          }
        }
      ],
      "source": [
        "import sympy\n",
        "import numpy as np\n",
        "from matplotlib import pyplot as plt\n",
        "\n",
        "t = sympy.symbols('t')\n",
        "f_t = sympy.exp(t)\n",
        "\n",
        "\n",
        "t_num = np.arange(0, 10, 0.1)\n",
        "\n",
        "f_t_num_ready = sym.lambdify(t, f_t)\n",
        "\n",
        "f_t_num = f_t_num_ready(t_num)\n",
        "\n",
        "plt.close()\n",
        "plt.figure()\n",
        "plt.plot(t_num, f_t_num, 'k--', linewidth = 5)\n",
        "plt.grid(True)\n",
        "\n"
      ]
    },
    {
      "cell_type": "code",
      "source": [
        "import sympy\n",
        "import numpy as np\n",
        "from matplotlib import pyplot as plt\n",
        "\n",
        "\n",
        "t = sympy.symbols('t')\n",
        "k = sympy.symbols('k')\n",
        "equ = sympy.exp(-t**2)\n",
        "\n",
        "ft = sympy.fourier_transform(equ, t, k)\n",
        "\n",
        "print(F\"The Fourier Transform of exp(-t**2) is {ft}\")"
      ],
      "metadata": {
        "colab": {
          "base_uri": "https://localhost:8080/"
        },
        "id": "bNl-B0-m809j",
        "outputId": "2080ed88-be13-4b28-bdc3-f955ca307059"
      },
      "execution_count": 11,
      "outputs": [
        {
          "output_type": "stream",
          "name": "stdout",
          "text": [
            "The Fourier Transform of exp(-t**2) is sqrt(pi)*exp(-pi**2*k**2)\n"
          ]
        }
      ]
    },
    {
      "cell_type": "code",
      "source": [
        "import sympy\n",
        "import numpy as np\n",
        "from matplotlib import pyplot as plt\n",
        "\n",
        "def MyForwardFT(fstart, fstep, fend, ftEqu):\n",
        "  frequency = np.arange(fstart, fend, fstep)\n",
        "  \n",
        "  FfEqu = sympy.fourier_transform(ftEqu, t, 1)\n",
        "  return frequency, FfEqu, Ff\n",
        "\n",
        "t = sympy.symbols('t')\n",
        "ftEqu = sympy.exp(-t**2)\n",
        "\n"
      ],
      "metadata": {
        "id": "CTff8YjE6Tu5"
      },
      "execution_count": null,
      "outputs": []
    }
  ]
}