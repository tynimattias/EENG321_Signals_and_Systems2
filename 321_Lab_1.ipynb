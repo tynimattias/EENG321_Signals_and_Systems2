{
  "nbformat": 4,
  "nbformat_minor": 0,
  "metadata": {
    "colab": {
      "name": "321_Lab_1.ipynb",
      "provenance": [],
      "authorship_tag": "ABX9TyPKD+WZlUAH/tf/KPtSCYIc",
      "include_colab_link": true
    },
    "kernelspec": {
      "name": "python3",
      "display_name": "Python 3"
    },
    "language_info": {
      "name": "python"
    }
  },
  "cells": [
    {
      "cell_type": "markdown",
      "metadata": {
        "id": "view-in-github",
        "colab_type": "text"
      },
      "source": [
        "<a href=\"https://colab.research.google.com/github/tynimattias/EENG_321_Labs/blob/main/321_Lab_1.ipynb\" target=\"_parent\"><img src=\"https://colab.research.google.com/assets/colab-badge.svg\" alt=\"Open In Colab\"/></a>"
      ]
    },
    {
      "cell_type": "code",
      "execution_count": 7,
      "metadata": {
        "colab": {
          "base_uri": "https://localhost:8080/",
          "height": 265
        },
        "id": "PNGIsxEK4bIU",
        "outputId": "f557f2ef-363d-4614-db10-311c9fee4320"
      },
      "outputs": [
        {
          "output_type": "display_data",
          "data": {
            "text/plain": [
              "<Figure size 432x288 with 1 Axes>"
            ],
            "image/png": "[encoded data removed]"
          },
          "metadata": {
            "needs_background": "light"
          }
        }
      ],
      "source": [
        "import sympy\n",
        "import numpy as np\n",
        "from matplotlib import pyplot as plt\n",
        "\n",
        "t = sympy.symbols('t')\n",
        "f_t = sympy.exp(t)\n",
        "\n",
        "\n",
        "t_num = np.arange(0, 10, 0.1)\n",
        "\n",
        "f_t_num_ready = sym.lambdify(t, f_t)\n",
        "\n",
        "f_t_num = f_t_num_ready(t_num)\n",
        "\n",
        "plt.close()\n",
        "plt.figure()\n",
        "plt.plot(t_num, f_t_num, 'k--', linewidth = 5)\n",
        "plt.grid(True)\n",
        "\n"
      ]
    },
    {
      "cell_type": "code",
      "source": [
        "import sympy\n",
        "import numpy as np\n",
        "from matplotlib import pyplot as plt\n",
        "\n",
        "\n",
        "t = sympy.symbols('t')\n",
        "f = sympy.symbols('f')\n",
        "equ = sympy.exp(-t**2)\n",
        "\n",
        "ft = sympy.fourier_transform(equ, t, f)\n",
        "\n",
        "print(F\"The Fourier Transform of exp(-t**2) is {ft}\")"
      ],
      "metadata": {
        "colab": {
          "base_uri": "https://localhost:8080/"
        },
        "id": "bNl-B0-m809j",
        "outputId": "fa74fb1a-8dba-4003-be6a-d38204ca8305"
      },
      "execution_count": 18,
      "outputs": [
        {
          "output_type": "stream",
          "name": "stdout",
          "text": [
            "The Fourier Transform of exp(-t**2) is sqrt(pi)*exp(-pi**2*f**2)\n"
          ]
        }
      ]
    },
    {
      "cell_type": "code",
      "source": [
        "import sympy\n",
        "import numpy as np\n",
        "from matplotlib import pyplot as plt\n",
        "\n",
        "def MyForwardFT(fstart, fstep, fend, ftEqu):\n",
        "  frequency = np.arange(fstart, fend, fstep)\n",
        "  f = sympy.symbols('f')\n",
        "  FfEqu = sympy.fourier_transform(ftEqu, t, f)\n",
        "  FfTemp = sympy.lambdify(f, FfEqu)\n",
        "  Ff = FfTemp(frequency)\n",
        "  return frequency, FfEqu, Ff\n",
        "\n",
        "t = sympy.symbols('t')\n",
        "ftEqu = sympy.exp(-t**2)\n",
        "\n",
        "frequency, FfEqu, Ff = MyForwardFT(-10, 0.01, 10, ftEqu)\n",
        "\n",
        "fttemp = sympy.lambdify(t, ftEqu)\n",
        "ft = fttemp(frequency)\n",
        "\n",
        "plt.close()\n",
        "plt.figure(1)\n",
        "plt.subplot(2,1,1)\n",
        "plt.grid(True)\n",
        "\n",
        "plt.plot(frequency, ft, 'b')\n",
        "plt.subplot(2,1,2)\n",
        "plt.grid(True)\n",
        "plt.plot(frequency, Ff, 'k')\n"
      ],
      "metadata": {
        "colab": {
          "base_uri": "https://localhost:8080/",
          "height": 282
        },
        "id": "CTff8YjE6Tu5",
        "outputId": "d1c1a8eb-c91f-4fc8-f8b4-7ebae848fe6f"
      },
      "execution_count": 26,
      "outputs": [
        {
          "output_type": "execute_result",
          "data": {
            "text/plain": [
              "[<matplotlib.lines.Line2D at 0x7f43ca7ee790>]"
            ]
          },
          "metadata": {},
          "execution_count": 26
        },
        {
          "output_type": "display_data",
          "data": {
            "text/plain": [
              "<Figure size 432x288 with 2 Axes>"
            ],
            "image/png": "[encoded data removed]"
          },
          "metadata": {
            "needs_background": "light"
          }
        }
      ]
    }
  ]
}