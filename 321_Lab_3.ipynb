{
  "nbformat": 4,
  "nbformat_minor": 0,
  "metadata": {
    "colab": {
      "name": "321_Lab_3.ipynb",
      "provenance": [],
      "authorship_tag": "ABX9TyPwhsqsrsK/dEcPhyBs40wI",
      "include_colab_link": true
    },
    "kernelspec": {
      "name": "python3",
      "display_name": "Python 3"
    },
    "language_info": {
      "name": "python"
    }
  },
  "cells": [
    {
      "cell_type": "markdown",
      "metadata": {
        "id": "view-in-github",
        "colab_type": "text"
      },
      "source": [
        "<a href=\"https://colab.research.google.com/github/tynimattias/EENG_321_Labs/blob/main/321_Lab_3.ipynb\" target=\"_parent\"><img src=\"https://colab.research.google.com/assets/colab-badge.svg\" alt=\"Open In Colab\"/></a>"
      ]
    },
    {
      "cell_type": "code",
      "execution_count": 7,
      "metadata": {
        "colab": {
          "base_uri": "https://localhost:8080/",
          "height": 245
        },
        "id": "67Ugf-lqUyCN",
        "outputId": "1d6ce8ef-75bb-41a0-fbb1-8b8b4066c3ba"
      },
      "outputs": [
        {
          "output_type": "error",
          "ename": "NameError",
          "evalue": "ignored",
          "traceback": [
            "\u001b[0;31m---------------------------------------------------------------------------\u001b[0m",
            "\u001b[0;31mNameError\u001b[0m                                 Traceback (most recent call last)",
            "\u001b[0;32m<ipython-input-7-1a2fd9be1500>\u001b[0m in \u001b[0;36m<module>\u001b[0;34m()\u001b[0m\n\u001b[1;32m      4\u001b[0m \u001b[0;34m\u001b[0m\u001b[0m\n\u001b[1;32m      5\u001b[0m \u001b[0mN\u001b[0m\u001b[0;34m=\u001b[0m\u001b[0;36m99\u001b[0m\u001b[0;34m;\u001b[0m \u001b[0mCutOffFreq\u001b[0m\u001b[0;34m=\u001b[0m\u001b[0;36m1000\u001b[0m\u001b[0;34m\u001b[0m\u001b[0;34m\u001b[0m\u001b[0m\n\u001b[0;32m----> 6\u001b[0;31m \u001b[0mNyqFreq\u001b[0m \u001b[0;34m=\u001b[0m \u001b[0mFs\u001b[0m \u001b[0;34m/\u001b[0m \u001b[0;36m2\u001b[0m \u001b[0;31m# Normalized freq = 1 is corresponding to Nyquist freq, fs/2\u001b[0m\u001b[0;34m\u001b[0m\u001b[0;34m\u001b[0m\u001b[0m\n\u001b[0m\u001b[1;32m      7\u001b[0m \u001b[0mNormalizedCutOffFreq\u001b[0m \u001b[0;34m=\u001b[0m \u001b[0mCutOffFreq\u001b[0m \u001b[0;34m/\u001b[0m \u001b[0mNyqFreq\u001b[0m\u001b[0;34m\u001b[0m\u001b[0;34m\u001b[0m\u001b[0m\n\u001b[1;32m      8\u001b[0m \u001b[0mA\u001b[0m \u001b[0;34m=\u001b[0m \u001b[0mnp\u001b[0m\u001b[0;34m.\u001b[0m\u001b[0marray\u001b[0m\u001b[0;34m(\u001b[0m\u001b[0;34m[\u001b[0m\u001b[0;36m1\u001b[0m\u001b[0;34m]\u001b[0m\u001b[0;34m)\u001b[0m\u001b[0;34m\u001b[0m\u001b[0;34m\u001b[0m\u001b[0m\n",
            "\u001b[0;31mNameError\u001b[0m: name 'Fs' is not defined"
          ]
        }
      ],
      "source": [
        "import numpy as np\n",
        "import scipy.signal as sci\n",
        "import matplotlib.pyplot as plt\n",
        "\n",
        "R2 = 0\n",
        "R1 = R2\n",
        "C = 5E-6\n",
        "\n",
        "\n",
        "\n",
        "K = R2/R1\n",
        "Wc = 1/(R2*C)\n",
        "\n",
        "Hs = (-K)/(s)\n",
        "omega = np.arange(0, 8000, 1)\n",
        "\n",
        "\n",
        "\n",
        "\n",
        "\n",
        "\"\"\"\n",
        "NumOfPoints = int(np.floor(fc)+2000)\n",
        "ww = np.linspace(0, 2*np.pi*(fc+4000),NumOfPoints)\n",
        "w,h = sci.freqs(B,A,ww)\n",
        "AngInDeg = np.angle(h,deg=True)\n",
        "# Plot the convolution results\n",
        "plt.close('all')\n",
        "Fig1 = plt.figure(1)\n",
        "plt.subplot(211); plt.semilogx(w/(2*np.pi),20*np.log10(np.abs(h)),'r-',linewidth=4); plt.grid(True); \n",
        "\n",
        "plt.title('|H(f)|'); plt.ylabel('Magnitude [dB]')\n",
        "plt.subplot(212);  plt.semilogx(w/(2*np.pi),AngInDeg,'r-',linewidth=4); \n",
        "plt.grid(True); \n",
        "plt.title('Angle of H(f)'); plt.xlabel('f [Hz]'); plt.ylabel('degree')\n",
        "\"\"\""
      ]
    }
  ]
}